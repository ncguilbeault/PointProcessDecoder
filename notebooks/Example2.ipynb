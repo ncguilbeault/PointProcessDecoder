{
 "cells": [
  {
   "cell_type": "code",
   "execution_count": 16,
   "metadata": {
    "dotnet_interactive": {
     "language": "csharp"
    },
    "polyglot_notebook": {
     "kernelName": "csharp"
    },
    "vscode": {
     "languageId": "polyglot-notebook"
    }
   },
   "outputs": [
    {
     "data": {
      "text/html": [
       "<div><div><strong>Restore sources</strong><ul><li><span> C:/Users/ncgui/Desktop/PointProcessDecoder/artifacts/package/release</span></li></ul></div><div></div><div></div></div>"
      ]
     },
     "metadata": {},
     "output_type": "display_data"
    }
   ],
   "source": [
    "#i \"nuget: C:/Users/ncgui/Desktop/PointProcessDecoder/artifacts/package/release\""
   ]
  },
  {
   "cell_type": "code",
   "execution_count": 17,
   "metadata": {
    "dotnet_interactive": {
     "language": "csharp"
    },
    "polyglot_notebook": {
     "kernelName": "csharp"
    },
    "vscode": {
     "languageId": "polyglot-notebook"
    }
   },
   "outputs": [
    {
     "data": {
      "text/html": [
       "<div><div><strong>Restore sources</strong><ul><li><span> C:/Users/ncgui/Desktop/PointProcessDecoder/artifacts/package/release</span></li></ul></div><div></div><div><strong>Installed Packages</strong><ul><li><span>OxyPlot.Core, 2.1.2</span></li><li><span>PointProcessDecoder.Core, 1.0.0</span></li><li><span>PointProcessDecoder.Cpu, 1.0.0</span></li><li><span>PointProcessDecoder.Plot, 1.0.0</span></li><li><span>PointProcessDecoder.Simulation, 1.0.0</span></li><li><span>TorchSharp, 0.105.0</span></li></ul></div></div>"
      ]
     },
     "metadata": {},
     "output_type": "display_data"
    }
   ],
   "source": [
    "#r \"nuget: TorchSharp\"\n",
    "#r \"nuget: PointProcessDecoder.Core\"\n",
    "#r \"nuget: PointProcessDecoder.Cpu\"\n",
    "#r \"nuget: PointProcessDecoder.Plot\"\n",
    "#r \"nuget: PointProcessDecoder.Simulation\"\n",
    "#r \"nuget: OxyPlot.Core, 2.1.2\""
   ]
  },
  {
   "cell_type": "code",
   "execution_count": 18,
   "metadata": {
    "dotnet_interactive": {
     "language": "csharp"
    },
    "polyglot_notebook": {
     "kernelName": "csharp"
    },
    "vscode": {
     "languageId": "polyglot-notebook"
    }
   },
   "outputs": [],
   "source": [
    "using System;\n",
    "using System.IO;\n",
    "\n",
    "using TorchSharp;\n",
    "using static TorchSharp.torch;\n",
    "\n",
    "using PointProcessDecoder.Core;\n",
    "using PointProcessDecoder.Plot;\n",
    "using PointProcessDecoder.Simulation;\n",
    "using PointProcessDecoder.Core.Estimation;\n",
    "using PointProcessDecoder.Core.Transitions;\n",
    "using PointProcessDecoder.Core.Encoder;\n",
    "using PointProcessDecoder.Core.Decoder;\n",
    "using PointProcessDecoder.Core.StateSpace;\n",
    "using PointProcessDecoder.Core.Likelihood;"
   ]
  },
  {
   "cell_type": "code",
   "execution_count": 19,
   "metadata": {
    "dotnet_interactive": {
     "language": "csharp"
    },
    "polyglot_notebook": {
     "kernelName": "csharp"
    },
    "vscode": {
     "languageId": "polyglot-notebook"
    }
   },
   "outputs": [],
   "source": [
    "string EncodeToHtml(byte[] data)\n",
    "{\n",
    "    return $\"<img src=\\\"data:image/png;base64,{Convert.ToBase64String(data)}\\\">\";\n",
    "}\n",
    "\n",
    "static Tensor ReadBinaryFile(\n",
    "    string binary_file,\n",
    "    Device device = null,\n",
    "    ScalarType scalarType = ScalarType.Float32\n",
    ")\n",
    "{\n",
    "    device ??= CPU;\n",
    "    byte[] fileBytes = File.ReadAllBytes(binary_file);\n",
    "    int elementCount = fileBytes.Length / sizeof(double);\n",
    "    double[] doubleArray = new double[elementCount];\n",
    "    Buffer.BlockCopy(fileBytes, 0, doubleArray, 0, fileBytes.Length);\n",
    "    Tensor t = tensor(doubleArray, device: device, dtype: scalarType);\n",
    "    return t;\n",
    "}\n",
    "\n",
    "public static (Tensor, Tensor) InitializeRealData(\n",
    "    string positionFile,\n",
    "    string marksFile,\n",
    "    Device device = null,\n",
    "    ScalarType scalarType = ScalarType.Float32\n",
    ")\n",
    "{\n",
    "    var position = ReadBinaryFile(positionFile, device, scalarType);\n",
    "    var marks = ReadBinaryFile(marksFile, device, scalarType);\n",
    "    return (position, marks);\n",
    "}\n",
    "\n",
    "Heatmap PlotPrediction(\n",
    "    Tensor prediction,\n",
    "    Tensor position2D,\n",
    "    string title,\n",
    "    double xMin,\n",
    "    double xMax,\n",
    "    double yMin,\n",
    "    double yMax,\n",
    "    string outputDirectory\n",
    ")\n",
    "{\n",
    "    Heatmap plotPrediction = new(\n",
    "        xMin,\n",
    "        xMax,\n",
    "        yMin,\n",
    "        yMax,\n",
    "        title: title\n",
    "    );\n",
    "\n",
    "    plotPrediction.OutputDirectory = Path.Combine(plotPrediction.OutputDirectory, outputDirectory);\n",
    "    plotPrediction.Show<float>(\n",
    "        prediction,\n",
    "        position2D\n",
    "    );\n",
    "    plotPrediction.Save(png: true);\n",
    "    \n",
    "    return plotPrediction;\n",
    "}"
   ]
  },
  {
   "cell_type": "code",
   "execution_count": 20,
   "metadata": {
    "dotnet_interactive": {
     "language": "csharp"
    },
    "polyglot_notebook": {
     "kernelName": "csharp"
    },
    "vscode": {
     "languageId": "polyglot-notebook"
    }
   },
   "outputs": [],
   "source": [
    "string positionFile = \"../data/positions_2D.bin\";\n",
    "string marksFile = \"../data/marks.bin\";\n",
    "\n",
    "Device device = CPU;\n",
    "ScalarType scalarType = ScalarType.Float32;\n",
    "int markDimensions = 4;\n",
    "int markChannels = 28;\n",
    "\n",
    "var (position, marks) = InitializeRealData(\n",
    "    positionFile: positionFile,\n",
    "    marksFile: marksFile,\n",
    "    device: device,\n",
    "    scalarType: scalarType\n",
    ");\n",
    "\n",
    "position = position.reshape(-1, 2);\n",
    "marks = marks.reshape(position.shape[0], markDimensions, markChannels);"
   ]
  },
  {
   "cell_type": "code",
   "execution_count": 21,
   "metadata": {
    "dotnet_interactive": {
     "language": "csharp"
    },
    "polyglot_notebook": {
     "kernelName": "csharp"
    },
    "vscode": {
     "languageId": "polyglot-notebook"
    }
   },
   "outputs": [],
   "source": [
    "position = position[TensorIndex.Slice(0, 100000)];\n",
    "marks = marks[TensorIndex.Slice(0, 100000)];"
   ]
  },
  {
   "cell_type": "code",
   "execution_count": 22,
   "metadata": {
    "dotnet_interactive": {
     "language": "csharp"
    },
    "polyglot_notebook": {
     "kernelName": "csharp"
    },
    "vscode": {
     "languageId": "polyglot-notebook"
    }
   },
   "outputs": [],
   "source": [
    "var pointProcessModel = new PointProcessModel(\n",
    "    estimationMethod: EstimationMethod.KernelCompression,\n",
    "    transitionsType: TransitionsType.RandomWalk,\n",
    "    encoderType: EncoderType.ClusterlessMarkEncoder,\n",
    "    decoderType: DecoderType.StateSpaceDecoder,\n",
    "    stateSpaceType: StateSpaceType.DiscreteUniformStateSpace,\n",
    "    likelihoodType: LikelihoodType.Clusterless,\n",
    "    minStateSpace: [0, 0],\n",
    "    maxStateSpace: [120, 120],\n",
    "    stepsStateSpace: [50, 50],\n",
    "    observationBandwidth: [5, 5],\n",
    "    stateSpaceDimensions: 2,\n",
    "    markDimensions: markDimensions,\n",
    "    markChannels: markChannels,\n",
    "    markBandwidth: [1, 1, 1, 1],\n",
    "    distanceThreshold: 1.5,\n",
    "    sigmaRandomWalk: 1,\n",
    "    device: device,\n",
    "    scalarType: scalarType\n",
    ");"
   ]
  },
  {
   "cell_type": "markdown",
   "metadata": {},
   "source": [
    "# Encode"
   ]
  },
  {
   "cell_type": "code",
   "execution_count": 23,
   "metadata": {
    "dotnet_interactive": {
     "language": "csharp"
    },
    "polyglot_notebook": {
     "kernelName": "csharp"
    },
    "vscode": {
     "languageId": "polyglot-notebook"
    }
   },
   "outputs": [],
   "source": [
    "double fractionTraining = 0.8;\n",
    "int trainingBatchSize = 1000;\n",
    "int testingBatchSize = 60;"
   ]
  },
  {
   "cell_type": "code",
   "execution_count": 24,
   "metadata": {
    "dotnet_interactive": {
     "language": "csharp"
    },
    "polyglot_notebook": {
     "kernelName": "csharp"
    },
    "vscode": {
     "languageId": "polyglot-notebook"
    }
   },
   "outputs": [
    {
     "name": "stdout",
     "output_type": "stream",
     "text": [
      "Training batch 1 of 81\n",
      "Training batch 2 of 81\n",
      "Training batch 3 of 81\n",
      "Training batch 4 of 81\n",
      "Training batch 5 of 81\n",
      "Training batch 6 of 81\n",
      "Training batch 7 of 81\n",
      "Training batch 8 of 81\n",
      "Training batch 9 of 81\n",
      "Training batch 10 of 81\n",
      "Training batch 11 of 81\n",
      "Training batch 12 of 81\n",
      "Training batch 13 of 81\n",
      "Training batch 14 of 81\n",
      "Training batch 15 of 81\n",
      "Training batch 16 of 81\n",
      "Training batch 17 of 81\n",
      "Training batch 18 of 81\n",
      "Training batch 19 of 81\n",
      "Training batch 20 of 81\n",
      "Training batch 21 of 81\n",
      "Training batch 22 of 81\n",
      "Training batch 23 of 81\n",
      "Training batch 24 of 81\n",
      "Training batch 25 of 81\n",
      "Training batch 26 of 81\n",
      "Training batch 27 of 81\n",
      "Training batch 28 of 81\n",
      "Training batch 29 of 81\n",
      "Training batch 30 of 81\n",
      "Training batch 31 of 81\n",
      "Training batch 32 of 81\n",
      "Training batch 33 of 81\n",
      "Training batch 34 of 81\n",
      "Training batch 35 of 81\n",
      "Training batch 36 of 81\n",
      "Training batch 37 of 81\n",
      "Training batch 38 of 81\n",
      "Training batch 39 of 81\n",
      "Training batch 40 of 81\n",
      "Training batch 41 of 81\n",
      "Training batch 42 of 81\n",
      "Training batch 43 of 81\n",
      "Training batch 44 of 81\n",
      "Training batch 45 of 81\n",
      "Training batch 46 of 81\n",
      "Training batch 47 of 81\n",
      "Training batch 48 of 81\n",
      "Training batch 49 of 81\n",
      "Training batch 50 of 81\n",
      "Training batch 51 of 81\n",
      "Training batch 52 of 81\n",
      "Training batch 53 of 81\n",
      "Training batch 54 of 81\n",
      "Training batch 55 of 81\n",
      "Training batch 56 of 81\n",
      "Training batch 57 of 81\n",
      "Training batch 58 of 81\n",
      "Training batch 59 of 81\n",
      "Training batch 60 of 81\n",
      "Training batch 61 of 81\n",
      "Training batch 62 of 81\n",
      "Training batch 63 of 81\n",
      "Training batch 64 of 81\n",
      "Training batch 65 of 81\n",
      "Training batch 66 of 81\n",
      "Training batch 67 of 81\n",
      "Training batch 68 of 81\n",
      "Training batch 69 of 81\n",
      "Training batch 70 of 81\n",
      "Training batch 71 of 81\n",
      "Training batch 72 of 81\n",
      "Training batch 73 of 81\n",
      "Training batch 74 of 81\n",
      "Training batch 75 of 81\n",
      "Training batch 76 of 81\n",
      "Training batch 77 of 81\n",
      "Training batch 78 of 81\n",
      "Training batch 79 of 81\n",
      "Training batch 80 of 81\n"
     ]
    }
   ],
   "source": [
    "int nTraining = (int)(position.shape[0] * fractionTraining);\n",
    "\n",
    "for (int i = 0; i < nTraining; i += trainingBatchSize)\n",
    "{\n",
    "    Console.WriteLine($\"Training batch {i / trainingBatchSize + 1} of {nTraining / trainingBatchSize + 1}\");\n",
    "    var end = Math.Min(i + trainingBatchSize, nTraining);\n",
    "    pointProcessModel.Encode(\n",
    "        position[TensorIndex.Slice(i, end)],\n",
    "        marks[TensorIndex.Slice(i, end)]\n",
    "    );\n",
    "}"
   ]
  },
  {
   "cell_type": "markdown",
   "metadata": {},
   "source": [
    "# Decode"
   ]
  },
  {
   "cell_type": "code",
   "execution_count": 25,
   "metadata": {
    "dotnet_interactive": {
     "language": "csharp"
    },
    "polyglot_notebook": {
     "kernelName": "csharp"
    },
    "vscode": {
     "languageId": "polyglot-notebook"
    }
   },
   "outputs": [
    {
     "name": "stdout",
     "output_type": "stream",
     "text": [
      "Testing batch 1 of 334\n",
      "Testing batch 2 of 334\n",
      "Testing batch 3 of 334\n",
      "Testing batch 4 of 334\n",
      "Testing batch 5 of 334\n",
      "Testing batch 6 of 334\n",
      "Testing batch 7 of 334\n",
      "Testing batch 8 of 334\n",
      "Testing batch 9 of 334\n",
      "Testing batch 10 of 334\n",
      "Testing batch 11 of 334\n",
      "Testing batch 12 of 334\n",
      "Testing batch 13 of 334\n",
      "Testing batch 14 of 334\n",
      "Testing batch 15 of 334\n",
      "Testing batch 16 of 334\n",
      "Testing batch 17 of 334\n",
      "Testing batch 18 of 334\n",
      "Testing batch 19 of 334\n",
      "Testing batch 20 of 334\n",
      "Testing batch 21 of 334\n",
      "Testing batch 22 of 334\n",
      "Testing batch 23 of 334\n",
      "Testing batch 24 of 334\n",
      "Testing batch 25 of 334\n",
      "Testing batch 26 of 334\n",
      "Testing batch 27 of 334\n",
      "Testing batch 28 of 334\n",
      "Testing batch 29 of 334\n",
      "Testing batch 30 of 334\n",
      "Testing batch 31 of 334\n",
      "Testing batch 32 of 334\n",
      "Testing batch 33 of 334\n",
      "Testing batch 34 of 334\n",
      "Testing batch 35 of 334\n",
      "Testing batch 36 of 334\n",
      "Testing batch 37 of 334\n",
      "Testing batch 38 of 334\n",
      "Testing batch 39 of 334\n",
      "Testing batch 40 of 334\n",
      "Testing batch 41 of 334\n",
      "Testing batch 42 of 334\n",
      "Testing batch 43 of 334\n",
      "Testing batch 44 of 334\n",
      "Testing batch 45 of 334\n",
      "Testing batch 46 of 334\n",
      "Testing batch 47 of 334\n",
      "Testing batch 48 of 334\n",
      "Testing batch 49 of 334\n",
      "Testing batch 50 of 334\n",
      "Testing batch 51 of 334\n",
      "Testing batch 52 of 334\n",
      "Testing batch 53 of 334\n",
      "Testing batch 54 of 334\n",
      "Testing batch 55 of 334\n",
      "Testing batch 56 of 334\n",
      "Testing batch 57 of 334\n",
      "Testing batch 58 of 334\n",
      "Testing batch 59 of 334\n",
      "Testing batch 60 of 334\n",
      "Testing batch 61 of 334\n",
      "Testing batch 62 of 334\n",
      "Testing batch 63 of 334\n",
      "Testing batch 64 of 334\n",
      "Testing batch 65 of 334\n",
      "Testing batch 66 of 334\n",
      "Testing batch 67 of 334\n",
      "Testing batch 68 of 334\n",
      "Testing batch 69 of 334\n",
      "Testing batch 70 of 334\n",
      "Testing batch 71 of 334\n",
      "Testing batch 72 of 334\n",
      "Testing batch 73 of 334\n",
      "Testing batch 74 of 334\n",
      "Testing batch 75 of 334\n",
      "Testing batch 76 of 334\n",
      "Testing batch 77 of 334\n",
      "Testing batch 78 of 334\n",
      "Testing batch 79 of 334\n",
      "Testing batch 80 of 334\n",
      "Testing batch 81 of 334\n",
      "Testing batch 82 of 334\n",
      "Testing batch 83 of 334\n",
      "Testing batch 84 of 334\n",
      "Testing batch 85 of 334\n",
      "Testing batch 86 of 334\n",
      "Testing batch 87 of 334\n",
      "Testing batch 88 of 334\n",
      "Testing batch 89 of 334\n",
      "Testing batch 90 of 334\n",
      "Testing batch 91 of 334\n",
      "Testing batch 92 of 334\n",
      "Testing batch 93 of 334\n",
      "Testing batch 94 of 334\n",
      "Testing batch 95 of 334\n",
      "Testing batch 96 of 334\n",
      "Testing batch 97 of 334\n",
      "Testing batch 98 of 334\n",
      "Testing batch 99 of 334\n",
      "Testing batch 100 of 334\n",
      "Testing batch 101 of 334\n",
      "Testing batch 102 of 334\n",
      "Testing batch 103 of 334\n",
      "Testing batch 104 of 334\n",
      "Testing batch 105 of 334\n",
      "Testing batch 106 of 334\n",
      "Testing batch 107 of 334\n",
      "Testing batch 108 of 334\n",
      "Testing batch 109 of 334\n",
      "Testing batch 110 of 334\n",
      "Testing batch 111 of 334\n",
      "Testing batch 112 of 334\n",
      "Testing batch 113 of 334\n",
      "Testing batch 114 of 334\n",
      "Testing batch 115 of 334\n",
      "Testing batch 116 of 334\n",
      "Testing batch 117 of 334\n",
      "Testing batch 118 of 334\n",
      "Testing batch 119 of 334\n",
      "Testing batch 120 of 334\n",
      "Testing batch 121 of 334\n",
      "Testing batch 122 of 334\n",
      "Testing batch 123 of 334\n",
      "Testing batch 124 of 334\n",
      "Testing batch 125 of 334\n",
      "Testing batch 126 of 334\n",
      "Testing batch 127 of 334\n",
      "Testing batch 128 of 334\n",
      "Testing batch 129 of 334\n",
      "Testing batch 130 of 334\n",
      "Testing batch 131 of 334\n",
      "Testing batch 132 of 334\n",
      "Testing batch 133 of 334\n",
      "Testing batch 134 of 334\n",
      "Testing batch 135 of 334\n",
      "Testing batch 136 of 334\n",
      "Testing batch 137 of 334\n",
      "Testing batch 138 of 334\n",
      "Testing batch 139 of 334\n",
      "Testing batch 140 of 334\n",
      "Testing batch 141 of 334\n",
      "Testing batch 142 of 334\n",
      "Testing batch 143 of 334\n",
      "Testing batch 144 of 334\n",
      "Testing batch 145 of 334\n",
      "Testing batch 146 of 334\n",
      "Testing batch 147 of 334\n",
      "Testing batch 148 of 334\n",
      "Testing batch 149 of 334\n",
      "Testing batch 150 of 334\n",
      "Testing batch 151 of 334\n",
      "Testing batch 152 of 334\n",
      "Testing batch 153 of 334\n",
      "Testing batch 154 of 334\n",
      "Testing batch 155 of 334\n",
      "Testing batch 156 of 334\n",
      "Testing batch 157 of 334\n",
      "Testing batch 158 of 334\n",
      "Testing batch 159 of 334\n",
      "Testing batch 160 of 334\n",
      "Testing batch 161 of 334\n",
      "Testing batch 162 of 334\n",
      "Testing batch 163 of 334\n",
      "Testing batch 164 of 334\n",
      "Testing batch 165 of 334\n",
      "Testing batch 166 of 334\n",
      "Testing batch 167 of 334\n",
      "Testing batch 168 of 334\n",
      "Testing batch 169 of 334\n",
      "Testing batch 170 of 334\n",
      "Testing batch 171 of 334\n",
      "Testing batch 172 of 334\n",
      "Testing batch 173 of 334\n",
      "Testing batch 174 of 334\n",
      "Testing batch 175 of 334\n",
      "Testing batch 176 of 334\n",
      "Testing batch 177 of 334\n",
      "Testing batch 178 of 334\n",
      "Testing batch 179 of 334\n",
      "Testing batch 180 of 334\n",
      "Testing batch 181 of 334\n",
      "Testing batch 182 of 334\n",
      "Testing batch 183 of 334\n",
      "Testing batch 184 of 334\n",
      "Testing batch 185 of 334\n",
      "Testing batch 186 of 334\n",
      "Testing batch 187 of 334\n",
      "Testing batch 188 of 334\n",
      "Testing batch 189 of 334\n",
      "Testing batch 190 of 334\n",
      "Testing batch 191 of 334\n",
      "Testing batch 192 of 334\n",
      "Testing batch 193 of 334\n",
      "Testing batch 194 of 334\n",
      "Testing batch 195 of 334\n",
      "Testing batch 196 of 334\n",
      "Testing batch 197 of 334\n",
      "Testing batch 198 of 334\n",
      "Testing batch 199 of 334\n",
      "Testing batch 200 of 334\n",
      "Testing batch 201 of 334\n",
      "Testing batch 202 of 334\n",
      "Testing batch 203 of 334\n",
      "Testing batch 204 of 334\n",
      "Testing batch 205 of 334\n",
      "Testing batch 206 of 334\n",
      "Testing batch 207 of 334\n",
      "Testing batch 208 of 334\n",
      "Testing batch 209 of 334\n",
      "Testing batch 210 of 334\n",
      "Testing batch 211 of 334\n",
      "Testing batch 212 of 334\n",
      "Testing batch 213 of 334\n",
      "Testing batch 214 of 334\n",
      "Testing batch 215 of 334\n",
      "Testing batch 216 of 334\n",
      "Testing batch 217 of 334\n",
      "Testing batch 218 of 334\n",
      "Testing batch 219 of 334\n",
      "Testing batch 220 of 334\n",
      "Testing batch 221 of 334\n",
      "Testing batch 222 of 334\n",
      "Testing batch 223 of 334\n",
      "Testing batch 224 of 334\n",
      "Testing batch 225 of 334\n",
      "Testing batch 226 of 334\n",
      "Testing batch 227 of 334\n",
      "Testing batch 228 of 334\n",
      "Testing batch 229 of 334\n",
      "Testing batch 230 of 334\n",
      "Testing batch 231 of 334\n",
      "Testing batch 232 of 334\n",
      "Testing batch 233 of 334\n",
      "Testing batch 234 of 334\n",
      "Testing batch 235 of 334\n",
      "Testing batch 236 of 334\n",
      "Testing batch 237 of 334\n",
      "Testing batch 238 of 334\n",
      "Testing batch 239 of 334\n",
      "Testing batch 240 of 334\n",
      "Testing batch 241 of 334\n",
      "Testing batch 242 of 334\n",
      "Testing batch 243 of 334\n",
      "Testing batch 244 of 334\n",
      "Testing batch 245 of 334\n",
      "Testing batch 246 of 334\n",
      "Testing batch 247 of 334\n",
      "Testing batch 248 of 334\n",
      "Testing batch 249 of 334\n",
      "Testing batch 250 of 334\n",
      "Testing batch 251 of 334\n",
      "Testing batch 252 of 334\n",
      "Testing batch 253 of 334\n",
      "Testing batch 254 of 334\n",
      "Testing batch 255 of 334\n",
      "Testing batch 256 of 334\n",
      "Testing batch 257 of 334\n",
      "Testing batch 258 of 334\n",
      "Testing batch 259 of 334\n",
      "Testing batch 260 of 334\n",
      "Testing batch 261 of 334\n",
      "Testing batch 262 of 334\n",
      "Testing batch 263 of 334\n",
      "Testing batch 264 of 334\n",
      "Testing batch 265 of 334\n",
      "Testing batch 266 of 334\n",
      "Testing batch 267 of 334\n",
      "Testing batch 268 of 334\n",
      "Testing batch 269 of 334\n",
      "Testing batch 270 of 334\n",
      "Testing batch 271 of 334\n",
      "Testing batch 272 of 334\n",
      "Testing batch 273 of 334\n",
      "Testing batch 274 of 334\n",
      "Testing batch 275 of 334\n",
      "Testing batch 276 of 334\n",
      "Testing batch 277 of 334\n",
      "Testing batch 278 of 334\n",
      "Testing batch 279 of 334\n",
      "Testing batch 280 of 334\n",
      "Testing batch 281 of 334\n",
      "Testing batch 282 of 334\n",
      "Testing batch 283 of 334\n",
      "Testing batch 284 of 334\n",
      "Testing batch 285 of 334\n",
      "Testing batch 286 of 334\n",
      "Testing batch 287 of 334\n",
      "Testing batch 288 of 334\n",
      "Testing batch 289 of 334\n",
      "Testing batch 290 of 334\n",
      "Testing batch 291 of 334\n",
      "Testing batch 292 of 334\n",
      "Testing batch 293 of 334\n",
      "Testing batch 294 of 334\n",
      "Testing batch 295 of 334\n",
      "Testing batch 296 of 334\n",
      "Testing batch 297 of 334\n",
      "Testing batch 298 of 334\n",
      "Testing batch 299 of 334\n",
      "Testing batch 300 of 334\n",
      "Testing batch 301 of 334\n",
      "Testing batch 302 of 334\n",
      "Testing batch 303 of 334\n",
      "Testing batch 304 of 334\n",
      "Testing batch 305 of 334\n",
      "Testing batch 306 of 334\n",
      "Testing batch 307 of 334\n",
      "Testing batch 308 of 334\n",
      "Testing batch 309 of 334\n",
      "Testing batch 310 of 334\n",
      "Testing batch 311 of 334\n",
      "Testing batch 312 of 334\n",
      "Testing batch 313 of 334\n",
      "Testing batch 314 of 334\n",
      "Testing batch 315 of 334\n",
      "Testing batch 316 of 334\n",
      "Testing batch 317 of 334\n",
      "Testing batch 318 of 334\n",
      "Testing batch 319 of 334\n",
      "Testing batch 320 of 334\n",
      "Testing batch 321 of 334\n",
      "Testing batch 322 of 334\n",
      "Testing batch 323 of 334\n",
      "Testing batch 324 of 334\n",
      "Testing batch 325 of 334\n",
      "Testing batch 326 of 334\n",
      "Testing batch 327 of 334\n",
      "Testing batch 328 of 334\n",
      "Testing batch 329 of 334\n",
      "Testing batch 330 of 334\n",
      "Testing batch 331 of 334\n",
      "Testing batch 332 of 334\n",
      "Testing batch 333 of 334\n",
      "Testing batch 334 of 334\n"
     ]
    }
   ],
   "source": [
    "int nTesting = (int)position.shape[0] - nTraining;\n",
    "for (int i = nTraining; i < nTraining + nTesting; i += testingBatchSize)\n",
    "{\n",
    "    Console.WriteLine($\"Testing batch {(i - nTraining) / testingBatchSize + 1} of {nTesting / testingBatchSize + 1}\"); \n",
    "    var end = Math.Min(i + testingBatchSize, nTraining + nTesting);\n",
    "    var prediction = pointProcessModel.Decode(marks[TensorIndex.Slice(i, end)]);\n",
    "    prediction = (prediction.sum(dim: 0) / prediction.sum()).reshape([50, 50]);\n",
    "    var title = $\"Prediction2D_{i}-{end}\";\n",
    "    var positionSampled = position[TensorIndex.Slice(i, end)];\n",
    "    var heatmap = PlotPrediction(\n",
    "        prediction, \n",
    "        positionSampled, \n",
    "        title,\n",
    "        0,\n",
    "        120,\n",
    "        0,\n",
    "        120,\n",
    "        \"ClusterlessMark2D\"\n",
    "    );\n",
    "}"
   ]
  },
  {
   "cell_type": "code",
   "execution_count": null,
   "metadata": {
    "dotnet_interactive": {
     "language": "csharp"
    },
    "polyglot_notebook": {
     "kernelName": "csharp"
    },
    "vscode": {
     "languageId": "polyglot-notebook"
    }
   },
   "outputs": [],
   "source": []
  }
 ],
 "metadata": {
  "kernelspec": {
   "display_name": ".NET (C#)",
   "language": "C#",
   "name": ".net-csharp"
  },
  "language_info": {
   "name": "python"
  },
  "polyglot_notebook": {
   "kernelInfo": {
    "defaultKernelName": "csharp",
    "items": [
     {
      "aliases": [],
      "name": "csharp"
     }
    ]
   }
  }
 },
 "nbformat": 4,
 "nbformat_minor": 2
}
