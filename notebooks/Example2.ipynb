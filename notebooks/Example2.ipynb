{
 "cells": [
  {
   "cell_type": "code",
   "execution_count": null,
   "metadata": {
    "dotnet_interactive": {
     "language": "csharp"
    },
    "polyglot_notebook": {
     "kernelName": "csharp"
    },
    "vscode": {
     "languageId": "polyglot-notebook"
    }
   },
   "outputs": [],
   "source": [
    "#i \"nuget: C:/Users/ncgui/Desktop/PointProcessDecoder/artifacts/package/release\""
   ]
  },
  {
   "cell_type": "code",
   "execution_count": null,
   "metadata": {
    "dotnet_interactive": {
     "language": "csharp"
    },
    "polyglot_notebook": {
     "kernelName": "csharp"
    },
    "vscode": {
     "languageId": "polyglot-notebook"
    }
   },
   "outputs": [],
   "source": [
    "#r \"nuget: PointProcessDecoder.Core, 0.1.4\"\n",
    "#r \"nuget: PointProcessDecoder.Cpu, 0.1.4\"\n",
    "#r \"nuget: PointProcessDecoder.Plot, 0.1.4\"\n",
    "#r \"nuget: PointProcessDecoder.Simulation, 0.1.4\""
   ]
  },
  {
   "cell_type": "code",
   "execution_count": null,
   "metadata": {
    "dotnet_interactive": {
     "language": "csharp"
    },
    "polyglot_notebook": {
     "kernelName": "csharp"
    },
    "vscode": {
     "languageId": "polyglot-notebook"
    }
   },
   "outputs": [],
   "source": [
    "using System;\n",
    "using System.IO;\n",
    "\n",
    "using TorchSharp;\n",
    "using static TorchSharp.torch;\n",
    "\n",
    "using PointProcessDecoder.Core;\n",
    "using PointProcessDecoder.Plot;\n",
    "using PointProcessDecoder.Simulation;\n",
    "using PointProcessDecoder.Core.Estimation;\n",
    "using PointProcessDecoder.Core.Transitions;\n",
    "using PointProcessDecoder.Core.Encoder;\n",
    "using PointProcessDecoder.Core.Decoder;\n",
    "using PointProcessDecoder.Core.StateSpace;\n",
    "using PointProcessDecoder.Core.Likelihood;"
   ]
  },
  {
   "cell_type": "code",
   "execution_count": null,
   "metadata": {
    "dotnet_interactive": {
     "language": "csharp"
    },
    "polyglot_notebook": {
     "kernelName": "csharp"
    },
    "vscode": {
     "languageId": "polyglot-notebook"
    }
   },
   "outputs": [],
   "source": [
    "string EncodeToHtml(byte[] data)\n",
    "{\n",
    "    return $\"<img src=\\\"data:image/png;base64,{Convert.ToBase64String(data)}\\\">\";\n",
    "}\n",
    "\n",
    "static Tensor ReadBinaryFile(\n",
    "    string binary_file,\n",
    "    Device device = null,\n",
    "    ScalarType scalarType = ScalarType.Float32\n",
    ")\n",
    "{\n",
    "    device ??= CPU;\n",
    "    byte[] fileBytes = File.ReadAllBytes(binary_file);\n",
    "    int elementCount = fileBytes.Length / sizeof(double);\n",
    "    double[] doubleArray = new double[elementCount];\n",
    "    Buffer.BlockCopy(fileBytes, 0, doubleArray, 0, fileBytes.Length);\n",
    "    Tensor t = tensor(doubleArray, device: device, dtype: scalarType);\n",
    "    return t;\n",
    "}\n",
    "\n",
    "public static (Tensor, Tensor) InitializeRealData(\n",
    "    string positionFile,\n",
    "    string marksFile,\n",
    "    Device device = null,\n",
    "    ScalarType scalarType = ScalarType.Float32\n",
    ")\n",
    "{\n",
    "    var position = ReadBinaryFile(positionFile, device, scalarType);\n",
    "    var marks = ReadBinaryFile(marksFile, device, scalarType);\n",
    "    return (position, marks);\n",
    "}\n",
    "\n",
    "Heatmap PlotPrediction(\n",
    "    Tensor prediction,\n",
    "    Tensor position2D,\n",
    "    string title,\n",
    "    double xMin,\n",
    "    double xMax,\n",
    "    double yMin,\n",
    "    double yMax,\n",
    "    string outputDirectory\n",
    ")\n",
    "{\n",
    "    Heatmap plotPrediction = new(\n",
    "        xMin,\n",
    "        xMax,\n",
    "        yMin,\n",
    "        yMax,\n",
    "        title: title\n",
    "    );\n",
    "\n",
    "    plotPrediction.OutputDirectory = Path.Combine(plotPrediction.OutputDirectory, outputDirectory);\n",
    "    plotPrediction.Show<float>(\n",
    "        prediction,\n",
    "        position2D\n",
    "    );\n",
    "    plotPrediction.Save(png: true);\n",
    "    \n",
    "    return plotPrediction;\n",
    "}"
   ]
  },
  {
   "cell_type": "code",
   "execution_count": null,
   "metadata": {
    "dotnet_interactive": {
     "language": "csharp"
    },
    "polyglot_notebook": {
     "kernelName": "csharp"
    },
    "vscode": {
     "languageId": "polyglot-notebook"
    }
   },
   "outputs": [],
   "source": [
    "string positionFile = \"../data/positions_2D.bin\";\n",
    "string marksFile = \"../data/marks.bin\";\n",
    "\n",
    "Device device = CPU;\n",
    "ScalarType scalarType = ScalarType.Float32;\n",
    "int markDimensions = 4;\n",
    "int markChannels = 28;\n",
    "\n",
    "var (position, marks) = InitializeRealData(\n",
    "    positionFile: positionFile,\n",
    "    marksFile: marksFile,\n",
    "    device: device,\n",
    "    scalarType: scalarType\n",
    ");\n",
    "\n",
    "position = position.reshape(-1, 2);\n",
    "marks = marks.reshape(position.shape[0], markDimensions, markChannels);"
   ]
  },
  {
   "cell_type": "code",
   "execution_count": null,
   "metadata": {
    "dotnet_interactive": {
     "language": "csharp"
    },
    "polyglot_notebook": {
     "kernelName": "csharp"
    },
    "vscode": {
     "languageId": "polyglot-notebook"
    }
   },
   "outputs": [],
   "source": [
    "position = position[TensorIndex.Slice(0, 100000)];\n",
    "marks = marks[TensorIndex.Slice(0, 100000)];"
   ]
  },
  {
   "cell_type": "code",
   "execution_count": null,
   "metadata": {
    "dotnet_interactive": {
     "language": "csharp"
    },
    "polyglot_notebook": {
     "kernelName": "csharp"
    },
    "vscode": {
     "languageId": "polyglot-notebook"
    }
   },
   "outputs": [],
   "source": [
    "var pointProcessModel = new PointProcessModel(\n",
    "    estimationMethod: EstimationMethod.KernelCompression,\n",
    "    transitionsType: TransitionsType.RandomWalk,\n",
    "    encoderType: EncoderType.ClusterlessMarkEncoder,\n",
    "    decoderType: DecoderType.StateSpaceDecoder,\n",
    "    stateSpaceType: StateSpaceType.DiscreteUniformStateSpace,\n",
    "    likelihoodType: LikelihoodType.Clusterless,\n",
    "    minStateSpace: [0, 0],\n",
    "    maxStateSpace: [120, 120],\n",
    "    stepsStateSpace: [50, 50],\n",
    "    observationBandwidth: [2, 2],\n",
    "    stateSpaceDimensions: 2,\n",
    "    markDimensions: markDimensions,\n",
    "    markChannels: markChannels,\n",
    "    markBandwidth: [1, 1, 1, 1],\n",
    "    ignoreNoSpikes: true,\n",
    "    distanceThreshold: 1.5,\n",
    "    sigmaRandomWalk: 1,\n",
    "    device: device,\n",
    "    scalarType: scalarType\n",
    ");"
   ]
  },
  {
   "cell_type": "markdown",
   "metadata": {},
   "source": [
    "# Encode"
   ]
  },
  {
   "cell_type": "code",
   "execution_count": null,
   "metadata": {
    "dotnet_interactive": {
     "language": "csharp"
    },
    "polyglot_notebook": {
     "kernelName": "csharp"
    },
    "vscode": {
     "languageId": "polyglot-notebook"
    }
   },
   "outputs": [],
   "source": [
    "double fractionTraining = 0.8;\n",
    "int trainingBatchSize = 10000;\n",
    "int testingBatchSize = 100;"
   ]
  },
  {
   "cell_type": "code",
   "execution_count": null,
   "metadata": {
    "dotnet_interactive": {
     "language": "csharp"
    },
    "polyglot_notebook": {
     "kernelName": "csharp"
    },
    "vscode": {
     "languageId": "polyglot-notebook"
    }
   },
   "outputs": [],
   "source": [
    "int nTraining = (int)(position.shape[0] * fractionTraining);\n",
    "\n",
    "for (int i = 0; i < nTraining + 1; i += trainingBatchSize)\n",
    "{\n",
    "    Console.WriteLine($\"Training batch {i / trainingBatchSize + 1} of {nTraining / trainingBatchSize + 1}\");\n",
    "    var end = Math.Min(i + trainingBatchSize, nTraining);\n",
    "    pointProcessModel.Encode(\n",
    "        position[TensorIndex.Slice(i, end)],\n",
    "        marks[TensorIndex.Slice(i, end)]\n",
    "    );\n",
    "}"
   ]
  },
  {
   "cell_type": "markdown",
   "metadata": {},
   "source": [
    "# Decode"
   ]
  },
  {
   "cell_type": "code",
   "execution_count": null,
   "metadata": {
    "dotnet_interactive": {
     "language": "csharp"
    },
    "polyglot_notebook": {
     "kernelName": "csharp"
    },
    "vscode": {
     "languageId": "polyglot-notebook"
    }
   },
   "outputs": [],
   "source": [
    "int nTesting = (int)position.shape[0] - nTraining;\n",
    "for (int i = nTraining; i < nTraining + nTesting + 1; i += testingBatchSize)\n",
    "{\n",
    "    Console.WriteLine($\"Testing batch {(i - nTraining) / testingBatchSize + 1} of {nTesting / testingBatchSize + 1}\"); \n",
    "    var end = Math.Min(i + testingBatchSize, nTraining + nTesting);\n",
    "    var prediction = pointProcessModel.Decode(marks[TensorIndex.Slice(i, end)]);\n",
    "    prediction = (prediction.sum(dim: 0) / prediction.sum()).reshape([50, 50]);\n",
    "    var title = $\"Prediction2D_{i}-{end}\";\n",
    "    var positionSampled = position[TensorIndex.Slice(i, end)];\n",
    "    var heatmap = PlotPrediction(\n",
    "        prediction, \n",
    "        positionSampled, \n",
    "        title,\n",
    "        0,\n",
    "        120,\n",
    "        0,\n",
    "        120,\n",
    "        \"20250125_ClusterlessMark2D_b71d4a7\"\n",
    "    );\n",
    "}"
   ]
  },
  {
   "cell_type": "markdown",
   "metadata": {},
   "source": [
    "# Encode and Decode"
   ]
  },
  {
   "cell_type": "code",
   "execution_count": null,
   "metadata": {
    "dotnet_interactive": {
     "language": "csharp"
    },
    "polyglot_notebook": {
     "kernelName": "csharp"
    },
    "vscode": {
     "languageId": "polyglot-notebook"
    }
   },
   "outputs": [],
   "source": [
    "int nTraining = (int)(position.shape[0] * fractionTraining);\n",
    "int nTesting = (int)position.shape[0] - nTraining;\n",
    "\n",
    "for (int i = 0; i < nTraining + nTesting + 1; i += testingBatchSize)\n",
    "{\n",
    "    Console.WriteLine($\"Testing batch {i / testingBatchSize + 1} of {(nTraining + nTesting) / testingBatchSize + 1}\"); \n",
    "    var end = Math.Min(i + testingBatchSize, nTraining + nTesting);\n",
    "    \n",
    "    if (i < nTraining) {\n",
    "        pointProcessModel.Encode(\n",
    "            position[TensorIndex.Slice(i, end)],\n",
    "            marks[TensorIndex.Slice(i, end)]\n",
    "        );\n",
    "    }\n",
    "\n",
    "    var prediction = pointProcessModel.Decode(marks[TensorIndex.Slice(i, end)]);\n",
    "    prediction = (prediction.sum(dim: 0) / prediction.sum())\n",
    "        .reshape(pointProcessModel.StateSpace.Shape);\n",
    "    var title = $\"Prediction2D_{i}-{end}\";\n",
    "    var positionSampled = position[TensorIndex.Slice(i, end)];\n",
    "    var heatmap = PlotPrediction(\n",
    "        prediction, \n",
    "        positionSampled, \n",
    "        title,\n",
    "        0,\n",
    "        120,\n",
    "        0,\n",
    "        120,\n",
    "        $\"20250125_ClusterlessMark2D_b71d4a7_EncodeAndDecode_NTraining{nTraining}_NTesting{nTesting}\"\n",
    "    );\n",
    "}"
   ]
  },
  {
   "cell_type": "code",
   "execution_count": null,
   "metadata": {
    "dotnet_interactive": {
     "language": "csharp"
    },
    "polyglot_notebook": {
     "kernelName": "csharp"
    },
    "vscode": {
     "languageId": "polyglot-notebook"
    }
   },
   "outputs": [],
   "source": []
  }
 ],
 "metadata": {
  "kernelspec": {
   "display_name": ".NET (C#)",
   "language": "C#",
   "name": ".net-csharp"
  },
  "language_info": {
   "name": "python"
  },
  "polyglot_notebook": {
   "kernelInfo": {
    "defaultKernelName": "csharp",
    "items": [
     {
      "aliases": [],
      "name": "csharp"
     }
    ]
   }
  }
 },
 "nbformat": 4,
 "nbformat_minor": 2
}
