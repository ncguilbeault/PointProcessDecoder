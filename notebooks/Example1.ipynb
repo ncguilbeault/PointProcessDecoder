{
 "cells": [
  {
   "cell_type": "code",
   "execution_count": null,
   "metadata": {
    "dotnet_interactive": {
     "language": "csharp"
    },
    "polyglot_notebook": {
     "kernelName": "csharp"
    },
    "vscode": {
     "languageId": "polyglot-notebook"
    }
   },
   "outputs": [
    {
     "ename": "Error",
     "evalue": "System.IO.FileNotFoundException: Could not load file or assembly 'FSharp.Compiler.Service, Version=43.8.200.0, Culture=neutral, PublicKeyToken=b03f5f7f11d50a3a'. The system cannot find the file specified.\n\nFile name: 'FSharp.Compiler.Service, Version=43.8.200.0, Culture=neutral, PublicKeyToken=b03f5f7f11d50a3a'\n   at Microsoft.DotNet.Interactive.PackageManagement.PackageRestoreContext..ctor(Boolean forceRestore)\n   at Microsoft.DotNet.Interactive.PackageManagement.KernelExtensions.<>c__DisplayClass0_0`1.<UseNugetDirective>b__0()\n   at System.Lazy`1.ViaFactory(LazyThreadSafetyMode mode)\n   at System.Lazy`1.ExecutionAndPublication(LazyHelper executionAndPublication, Boolean useDefaultConstructor)\n   at System.Lazy`1.CreateValue()\n   at Microsoft.DotNet.Interactive.PackageManagement.KernelExtensions.<>c__DisplayClass0_0`1.<UseNugetDirective>b__5(AddPackageSource command, KernelInvocationContext context)\n   at Microsoft.DotNet.Interactive.Kernel.<>c__DisplayClass57_0`1.<RegisterCommandHandler>b__0(KernelCommand command, KernelInvocationContext context)\n   at Microsoft.DotNet.Interactive.Commands.KernelCommand.InvokeAsync(KernelInvocationContext context)\n   at Microsoft.DotNet.Interactive.Kernel.HandleAsync(KernelCommand command, KernelInvocationContext context)\n   at Microsoft.DotNet.Interactive.KernelCommandPipeline.<BuildPipeline>b__6_0(KernelCommand command, KernelInvocationContext context, KernelPipelineContinuation _)\n   at Microsoft.DotNet.Interactive.KernelCommandPipeline.SendAsync(KernelCommand command, KernelInvocationContext context)",
     "output_type": "error",
     "traceback": [
      "System.IO.FileNotFoundException: Could not load file or assembly 'FSharp.Compiler.Service, Version=43.8.200.0, Culture=neutral, PublicKeyToken=b03f5f7f11d50a3a'. The system cannot find the file specified.\n",
      "\n",
      "File name: 'FSharp.Compiler.Service, Version=43.8.200.0, Culture=neutral, PublicKeyToken=b03f5f7f11d50a3a'\n",
      "   at Microsoft.DotNet.Interactive.PackageManagement.PackageRestoreContext..ctor(Boolean forceRestore)\n",
      "   at Microsoft.DotNet.Interactive.PackageManagement.KernelExtensions.<>c__DisplayClass0_0`1.<UseNugetDirective>b__0()\n",
      "   at System.Lazy`1.ViaFactory(LazyThreadSafetyMode mode)\n",
      "   at System.Lazy`1.ExecutionAndPublication(LazyHelper executionAndPublication, Boolean useDefaultConstructor)\n",
      "   at System.Lazy`1.CreateValue()\n",
      "   at Microsoft.DotNet.Interactive.PackageManagement.KernelExtensions.<>c__DisplayClass0_0`1.<UseNugetDirective>b__5(AddPackageSource command, KernelInvocationContext context)\n",
      "   at Microsoft.DotNet.Interactive.Kernel.<>c__DisplayClass57_0`1.<RegisterCommandHandler>b__0(KernelCommand command, KernelInvocationContext context)\n",
      "   at Microsoft.DotNet.Interactive.Commands.KernelCommand.InvokeAsync(KernelInvocationContext context)\n",
      "   at Microsoft.DotNet.Interactive.Kernel.HandleAsync(KernelCommand command, KernelInvocationContext context)\n",
      "   at Microsoft.DotNet.Interactive.KernelCommandPipeline.<BuildPipeline>b__6_0(KernelCommand command, KernelInvocationContext context, KernelPipelineContinuation _)\n",
      "   at Microsoft.DotNet.Interactive.KernelCommandPipeline.SendAsync(KernelCommand command, KernelInvocationContext context)"
     ]
    }
   ],
   "source": [
    "#i \"nuget: /home/nicholas/PointProcessDecoder/artifacts/package/debug\""
   ]
  },
  {
   "cell_type": "code",
   "execution_count": 2,
   "metadata": {
    "dotnet_interactive": {
     "language": "csharp"
    },
    "polyglot_notebook": {
     "kernelName": "csharp"
    },
    "vscode": {
     "languageId": "polyglot-notebook"
    }
   },
   "outputs": [
    {
     "data": {
      "text/html": [
       "<div><div><strong>Restore sources</strong><ul><li><span> /home/nicholas/PointProcessDecoder/artifacts/package/debug</span></li></ul></div><div></div><div><strong>Installed Packages</strong><ul><li><span>HarfBuzzSharp.NativeAssets.Linux, 8.3.0.1</span></li><li><span>OxyPlot.Core, 2.1.2</span></li><li><span>PointProcessDecoder.Core, 1.0.0</span></li><li><span>PointProcessDecoder.Plot, 1.0.0</span></li><li><span>PointProcessDecoder.Simulation, 1.0.0</span></li><li><span>SkiaSharp.NativeAssets.Linux, 3.116.1</span></li><li><span>TorchSharp, 0.105.0</span></li></ul></div></div>"
      ]
     },
     "metadata": {},
     "output_type": "display_data"
    },
    {
     "data": {
      "text/plain": [
       "Loading extensions from `/home/nicholas/.nuget/packages/skiasharp/2.88.6/interactive-extensions/dotnet/SkiaSharp.DotNet.Interactive.dll`"
      ]
     },
     "metadata": {},
     "output_type": "display_data"
    }
   ],
   "source": [
    "#r \"nuget: TorchSharp\"\n",
    "#r \"nuget: PointProcessDecoder.Core\"\n",
    "#r \"nuget: PointProcessDecoder.Plot\"\n",
    "#r \"nuget: PointProcessDecoder.Simulation\"\n",
    "#r \"nuget: OxyPlot.Core, 2.1.2\"\n",
    "#r \"nuget: SkiaSharp.NativeAssets.Linux\"\n",
    "#r \"nuget: HarfBuzzSharp.NativeAssets.Linux\""
   ]
  },
  {
   "cell_type": "code",
   "execution_count": 3,
   "metadata": {
    "dotnet_interactive": {
     "language": "csharp"
    },
    "polyglot_notebook": {
     "kernelName": "csharp"
    },
    "vscode": {
     "languageId": "polyglot-notebook"
    }
   },
   "outputs": [],
   "source": [
    "using System;\n",
    "using System.IO;\n",
    "\n",
    "using static TorchSharp.torch;\n",
    "\n",
    "using PointProcessDecoder.Core;\n",
    "using PointProcessDecoder.Plot;\n",
    "using PointProcessDecoder.Simulation;\n",
    "using PointProcessDecoder.Core.Estimation;\n",
    "using PointProcessDecoder.Core.Transitions;\n",
    "using PointProcessDecoder.Core.Encoder;\n",
    "using PointProcessDecoder.Core.Decoder;"
   ]
  },
  {
   "cell_type": "code",
   "execution_count": 4,
   "metadata": {
    "dotnet_interactive": {
     "language": "csharp"
    },
    "polyglot_notebook": {
     "kernelName": "csharp"
    },
    "vscode": {
     "languageId": "polyglot-notebook"
    }
   },
   "outputs": [],
   "source": [
    "string EncodeToHtml(byte[] data)\n",
    "{\n",
    "    return $\"<img src=\\\"data:image/png;base64,{Convert.ToBase64String(data)}\\\">\";\n",
    "}"
   ]
  },
  {
   "cell_type": "code",
   "execution_count": 5,
   "metadata": {
    "dotnet_interactive": {
     "language": "csharp"
    },
    "polyglot_notebook": {
     "kernelName": "csharp"
    },
    "vscode": {
     "languageId": "polyglot-notebook"
    }
   },
   "outputs": [],
   "source": [
    "Tensor ReadBinaryFile(string binary_file)\n",
    "{\n",
    "    byte[] fileBytes = File.ReadAllBytes(binary_file);\n",
    "    int elementCount = fileBytes.Length / sizeof(double);\n",
    "    double[] doubleArray = new double[elementCount];\n",
    "    Buffer.BlockCopy(fileBytes, 0, doubleArray, 0, fileBytes.Length);\n",
    "    Tensor t = tensor(doubleArray, dtype: ScalarType.Float64);\n",
    "    return t;\n",
    "}\n",
    "\n",
    "var nose_x = ReadBinaryFile(\"/home/nicholas/machinelearning-examples/datasets/decoder_data/nose_x.bin\");\n",
    "var nose_y = ReadBinaryFile(\"/home/nicholas/machinelearning-examples/datasets/decoder_data/nose_y.bin\");\n",
    "var position = stack(new Tensor[] {nose_x, nose_y}, 1);"
   ]
  },
  {
   "cell_type": "code",
   "execution_count": 6,
   "metadata": {
    "dotnet_interactive": {
     "language": "csharp"
    },
    "polyglot_notebook": {
     "kernelName": "csharp"
    },
    "vscode": {
     "languageId": "polyglot-notebook"
    }
   },
   "outputs": [
    {
     "ename": "Error",
     "evalue": "(3,27): error CS1061: 'ScatterPlot' does not contain a definition for 'ToBytes' and no accessible extension method 'ToBytes' accepting a first argument of type 'ScatterPlot' could be found (are you missing a using directive or an assembly reference?)",
     "output_type": "error",
     "traceback": [
      "(3,27): error CS1061: 'ScatterPlot' does not contain a definition for 'ToBytes' and no accessible extension method 'ToBytes' accepting a first argument of type 'ScatterPlot' could be found (are you missing a using directive or an assembly reference?)"
     ]
    }
   ],
   "source": [
    "ScatterPlot positionPlot = new();\n",
    "positionPlot.Show(position);\n",
    "EncodeToHtml(positionPlot.ToBytes());"
   ]
  },
  {
   "cell_type": "code",
   "execution_count": null,
   "metadata": {
    "dotnet_interactive": {
     "language": "csharp"
    },
    "polyglot_notebook": {
     "kernelName": "csharp"
    },
    "vscode": {
     "languageId": "polyglot-notebook"
    }
   },
   "outputs": [],
   "source": []
  },
  {
   "cell_type": "code",
   "execution_count": 22,
   "metadata": {
    "dotnet_interactive": {
     "language": "csharp"
    },
    "polyglot_notebook": {
     "kernelName": "csharp"
    },
    "vscode": {
     "languageId": "polyglot-notebook"
    }
   },
   "outputs": [
    {
     "data": {
      "text/html": [
       "<div><pre>[2], type = Float64, device = cpu\n",
       " 0 0\n",
       "</pre></div>"
      ]
     },
     "metadata": {},
     "output_type": "display_data"
    },
    {
     "data": {
      "text/html": [
       "<div><pre>[2], type = Float64, device = cpu\n",
       " 119.99 107.12\n",
       "</pre></div>"
      ]
     },
     "metadata": {},
     "output_type": "display_data"
    }
   ],
   "source": [
    "display(position.min(0).Item1);\n",
    "display(position.max(0).Item1);"
   ]
  },
  {
   "cell_type": "code",
   "execution_count": 14,
   "metadata": {
    "dotnet_interactive": {
     "language": "csharp"
    },
    "polyglot_notebook": {
     "kernelName": "csharp"
    },
    "vscode": {
     "languageId": "polyglot-notebook"
    }
   },
   "outputs": [],
   "source": [
    "private int seed = 0;\n",
    "private ScalarType scalarType = ScalarType.Float32;\n",
    "private Device device = CPU;\n",
    "private int testingSteps = 1800;\n",
    "private string outputDirectory = \"TestModel\";"
   ]
  },
  {
   "cell_type": "code",
   "execution_count": null,
   "metadata": {
    "dotnet_interactive": {
     "language": "csharp"
    },
    "polyglot_notebook": {
     "kernelName": "csharp"
    },
    "vscode": {
     "languageId": "polyglot-notebook"
    }
   },
   "outputs": [],
   "source": [
    "var model = new PointProcessModel(\n",
    "    EstimationMethod.KernelDensity,\n",
    "    TransitionsType.Uniform,\n",
    "    EncoderType.SortedSpikeEncoder,\n",
    "    DecoderType.SortedSpikeDecoder,\n",
    "    [0, 0],\n",
    "    [120, 110],\n",
    "    [50, 50],\n",
    "    [1.0, 1.0],\n",
    "    2,\n",
    "    nUnits: 100\n",
    ");"
   ]
  },
  {
   "cell_type": "code",
   "execution_count": null,
   "metadata": {
    "dotnet_interactive": {
     "language": "csharp"
    },
    "polyglot_notebook": {
     "kernelName": "csharp"
    },
    "vscode": {
     "languageId": "polyglot-notebook"
    }
   },
   "outputs": [],
   "source": []
  }
 ],
 "metadata": {
  "kernelspec": {
   "display_name": ".NET (C#)",
   "language": "C#",
   "name": ".net-csharp"
  },
  "language_info": {
   "name": "python"
  },
  "polyglot_notebook": {
   "kernelInfo": {
    "defaultKernelName": "csharp",
    "items": [
     {
      "aliases": [],
      "name": "csharp"
     }
    ]
   }
  }
 },
 "nbformat": 4,
 "nbformat_minor": 2
}
