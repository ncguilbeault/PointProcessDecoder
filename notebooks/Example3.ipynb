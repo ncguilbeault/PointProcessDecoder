{
 "cells": [
  {
   "cell_type": "code",
   "execution_count": null,
   "metadata": {
    "dotnet_interactive": {
     "language": "csharp"
    },
    "polyglot_notebook": {
     "kernelName": "csharp"
    },
    "vscode": {
     "languageId": "polyglot-notebook"
    }
   },
   "outputs": [],
   "source": [
    "#i \"nuget: /home/nicholas/PointProcessDecoder/artifacts/package/release\""
   ]
  },
  {
   "cell_type": "code",
   "execution_count": null,
   "metadata": {
    "dotnet_interactive": {
     "language": "csharp"
    },
    "polyglot_notebook": {
     "kernelName": "csharp"
    },
    "vscode": {
     "languageId": "polyglot-notebook"
    }
   },
   "outputs": [],
   "source": [
    "#r \"nuget: PointProcessDecoder.Core, 0.4.0-preview\"\n",
    "#r \"nuget: PointProcessDecoder.Cpu, 0.4.0-preview\"\n",
    "#r \"nuget: PointProcessDecoder.Plot, 0.4.0-preview\"\n",
    "#r \"nuget: PointProcessDecoder.Plot.Linux, 0.4.0-preview\"\n",
    "#r \"nuget: PointProcessDecoder.Simulation, 0.4.0-preview\""
   ]
  },
  {
   "cell_type": "code",
   "execution_count": null,
   "metadata": {
    "dotnet_interactive": {
     "language": "csharp"
    },
    "polyglot_notebook": {
     "kernelName": "csharp"
    },
    "vscode": {
     "languageId": "polyglot-notebook"
    }
   },
   "outputs": [],
   "source": [
    "using System;\n",
    "using System.IO;\n",
    "\n",
    "using TorchSharp;\n",
    "using static TorchSharp.torch;\n",
    "\n",
    "using PointProcessDecoder.Core;\n",
    "using PointProcessDecoder.Plot;\n",
    "using PointProcessDecoder.Simulation;\n",
    "using PointProcessDecoder.Core.Estimation;\n",
    "using PointProcessDecoder.Core.Transitions;\n",
    "using PointProcessDecoder.Core.Encoder;\n",
    "using PointProcessDecoder.Core.Decoder;\n",
    "using PointProcessDecoder.Core.StateSpace;\n",
    "using PointProcessDecoder.Core.Likelihood;"
   ]
  },
  {
   "cell_type": "code",
   "execution_count": null,
   "metadata": {
    "dotnet_interactive": {
     "language": "csharp"
    },
    "polyglot_notebook": {
     "kernelName": "csharp"
    },
    "vscode": {
     "languageId": "polyglot-notebook"
    }
   },
   "outputs": [],
   "source": [
    "static Tensor ReadBinaryFile(\n",
    "    string binary_file,\n",
    "    Device device = null,\n",
    "    ScalarType scalarType = ScalarType.Float32\n",
    ")\n",
    "{\n",
    "    device ??= CPU;\n",
    "    byte[] fileBytes = File.ReadAllBytes(binary_file);\n",
    "    int elementCount = fileBytes.Length / sizeof(double);\n",
    "    double[] doubleArray = new double[elementCount];\n",
    "    Buffer.BlockCopy(fileBytes, 0, doubleArray, 0, fileBytes.Length);\n",
    "    Tensor t = tensor(doubleArray, device: device, dtype: scalarType);\n",
    "    return t;\n",
    "}\n",
    "\n",
    "static (Tensor, Tensor) InitializeRealData(\n",
    "    string positionFile,\n",
    "    string spikesFile,\n",
    "    Device device,\n",
    "    ScalarType scalarType = ScalarType.Float32\n",
    ")\n",
    "{\n",
    "    var position = ReadBinaryFile(positionFile, device, scalarType);\n",
    "    var spikes = ReadBinaryFile(spikesFile, device, scalarType);\n",
    "    return (position, spikes);\n",
    "}\n",
    "\n",
    "Heatmap PlotPosteriorPrediction(\n",
    "    Tensor posteriorPrediction,\n",
    "    Tensor position2D,\n",
    "    string title,\n",
    "    double xMin,\n",
    "    double xMax,\n",
    "    double yMin,\n",
    "    double yMax,\n",
    "    string outputDirectory\n",
    ")\n",
    "{\n",
    "    Heatmap plotPrediction = new(\n",
    "        xMin,\n",
    "        xMax,\n",
    "        yMin,\n",
    "        yMax,\n",
    "        title: title\n",
    "    );\n",
    "\n",
    "    plotPrediction.OutputDirectory = Path.Combine(plotPrediction.OutputDirectory, outputDirectory);\n",
    "    plotPrediction.Show(\n",
    "        posteriorPrediction,\n",
    "        position2D\n",
    "    );\n",
    "    plotPrediction.Save(png: true);\n",
    "    \n",
    "    return plotPrediction;\n",
    "}\n",
    "\n",
    "static ScatterPlot PlotStatePrediction(\n",
    "    Tensor stateProbabilities,\n",
    "    string title,\n",
    "    string outputDirectory\n",
    ")\n",
    "{\n",
    "    var lengthOfData = stateProbabilities.size(0);\n",
    "    ScatterPlot plotStatePrediction = new(\n",
    "        0, \n",
    "        lengthOfData, \n",
    "        -0.1, \n",
    "        1.1, \n",
    "        title: title\n",
    "    );\n",
    "\n",
    "    plotStatePrediction.OutputDirectory = Path.Combine(plotStatePrediction.OutputDirectory, outputDirectory);\n",
    "    var time = arange(0, lengthOfData, 1);\n",
    "\n",
    "    OxyPlot.OxyColor[] colors = [\n",
    "        OxyPlot.OxyColors.Red,\n",
    "        OxyPlot.OxyColors.Green,\n",
    "        OxyPlot.OxyColors.Blue\n",
    "    ];\n",
    "\n",
    "    string[] labels = [\n",
    "        \"Stationary\",\n",
    "        \"Continuous\",\n",
    "        \"Fragmented\"\n",
    "    ];\n",
    "\n",
    "    for (var i = 0; i < stateProbabilities.size(1); i++)\n",
    "    {\n",
    "        var statePrediction = stack([time, stateProbabilities[TensorIndex.Colon, i]], 1);\n",
    "        plotStatePrediction.Show(\n",
    "            statePrediction,\n",
    "            color: colors[i],\n",
    "            addLine: true,\n",
    "            seriesLabel: labels[i]\n",
    "        );\n",
    "    }\n",
    "\n",
    "    plotStatePrediction.Save(png: true);\n",
    "\n",
    "    return plotStatePrediction;\n",
    "}"
   ]
  },
  {
   "cell_type": "code",
   "execution_count": null,
   "metadata": {
    "dotnet_interactive": {
     "language": "csharp"
    },
    "polyglot_notebook": {
     "kernelName": "csharp"
    },
    "vscode": {
     "languageId": "polyglot-notebook"
    }
   },
   "outputs": [],
   "source": [
    "string positionFile = \"../data/position.bin\";\n",
    "string spikesFile = \"../data/spike_counts.bin\";\n",
    "\n",
    "Device device = CPU;\n",
    "ScalarType scalarType = ScalarType.Float32;\n",
    "\n",
    "var (position, spikingData) = InitializeRealData(\n",
    "    positionFile: positionFile,\n",
    "    spikesFile: spikesFile,\n",
    "    device: device,\n",
    "    scalarType: scalarType\n",
    ");\n",
    "\n",
    "position = position.reshape(-1, 2);\n",
    "spikingData = spikingData.reshape(position.shape[0], -1)\n",
    "    .to_type(ScalarType.Int32);\n",
    "var numNeurons = (int)spikingData.shape[1];"
   ]
  },
  {
   "cell_type": "code",
   "execution_count": null,
   "metadata": {
    "dotnet_interactive": {
     "language": "csharp"
    },
    "polyglot_notebook": {
     "kernelName": "csharp"
    },
    "vscode": {
     "languageId": "polyglot-notebook"
    }
   },
   "outputs": [],
   "source": [
    "position = position[TensorIndex.Slice(0, 100000)];\n",
    "spikingData = spikingData[TensorIndex.Slice(0, 100000)];"
   ]
  },
  {
   "cell_type": "code",
   "execution_count": null,
   "metadata": {
    "dotnet_interactive": {
     "language": "csharp"
    },
    "polyglot_notebook": {
     "kernelName": "csharp"
    },
    "vscode": {
     "languageId": "polyglot-notebook"
    }
   },
   "outputs": [],
   "source": [
    "var pointProcessModel = new PointProcessModel(\n",
    "    estimationMethod: EstimationMethod.KernelCompression,\n",
    "    transitionsType: TransitionsType.RandomWalk,\n",
    "    encoderType: EncoderType.SortedSpikes,\n",
    "    decoderType: DecoderType.HybridStateSpaceClassifier,\n",
    "    stateSpaceType: StateSpaceType.DiscreteUniform,\n",
    "    likelihoodType: LikelihoodType.Poisson,\n",
    "    minStateSpace: [0, 0],\n",
    "    maxStateSpace: [120, 120],\n",
    "    stepsStateSpace: [50, 50],\n",
    "    observationBandwidth: [2, 2],\n",
    "    stateSpaceDimensions: 2,\n",
    "    nUnits: numNeurons,\n",
    "    ignoreNoSpikes: false,\n",
    "    distanceThreshold: 1.5,\n",
    "    sigmaRandomWalk: 1,\n",
    "    device: device,\n",
    "    scalarType: scalarType\n",
    ");"
   ]
  },
  {
   "cell_type": "markdown",
   "metadata": {},
   "source": [
    "# Encode"
   ]
  },
  {
   "cell_type": "code",
   "execution_count": null,
   "metadata": {
    "dotnet_interactive": {
     "language": "csharp"
    },
    "polyglot_notebook": {
     "kernelName": "csharp"
    },
    "vscode": {
     "languageId": "polyglot-notebook"
    }
   },
   "outputs": [],
   "source": [
    "double fractionTraining = 0.8;\n",
    "int trainingBatchSize = 10000;\n",
    "int testingBatchSize = 100;"
   ]
  },
  {
   "cell_type": "code",
   "execution_count": null,
   "metadata": {
    "dotnet_interactive": {
     "language": "csharp"
    },
    "polyglot_notebook": {
     "kernelName": "csharp"
    },
    "vscode": {
     "languageId": "polyglot-notebook"
    }
   },
   "outputs": [],
   "source": [
    "int nTraining = (int)(position.shape[0] * fractionTraining);\n",
    "\n",
    "for (int i = 0; i < nTraining + 1; i += trainingBatchSize)\n",
    "{\n",
    "    Console.WriteLine($\"Training batch {i / trainingBatchSize + 1} of {nTraining / trainingBatchSize + 1}\");\n",
    "    var end = Math.Min(i + trainingBatchSize, nTraining);\n",
    "    pointProcessModel.Encode(\n",
    "        position[TensorIndex.Slice(i, end)],\n",
    "        spikingData[TensorIndex.Slice(i, end)]\n",
    "    );\n",
    "}"
   ]
  },
  {
   "cell_type": "markdown",
   "metadata": {},
   "source": [
    "# Decode"
   ]
  },
  {
   "cell_type": "code",
   "execution_count": null,
   "metadata": {
    "dotnet_interactive": {
     "language": "csharp"
    },
    "polyglot_notebook": {
     "kernelName": "csharp"
    },
    "vscode": {
     "languageId": "polyglot-notebook"
    }
   },
   "outputs": [],
   "source": [
    "int nTesting = (int)position.shape[0] - nTraining;\n",
    "for (int i = nTraining; i < nTraining + nTesting + 1; i += testingBatchSize)\n",
    "{\n",
    "    Console.WriteLine($\"Testing batch {(i - nTraining) / testingBatchSize + 1} of {nTesting / testingBatchSize + 1}\"); \n",
    "    var end = Math.Min(i + testingBatchSize, nTraining + nTesting);\n",
    "    var posteriorDecoded = pointProcessModel.Decode(spikingData[TensorIndex.Slice(i, end)]);\n",
    "    var prediction = new ClassifierData(pointProcessModel.StateSpace, posteriorDecoded);\n",
    "    var posterior = prediction.DecoderData.Posterior.mean([0]);\n",
    "    var positionSampled = position[TensorIndex.Slice(i, end)];\n",
    "    var heatmap = PlotPosteriorPrediction(\n",
    "        posterior, \n",
    "        positionSampled, \n",
    "        $\"Prediction2D_{i}-{end}\",\n",
    "        0,\n",
    "        120,\n",
    "        0,\n",
    "        120,\n",
    "        \"20250408_SortedUnits_43765200\"\n",
    "    );\n",
    "    var scatter = PlotStatePrediction(\n",
    "        prediction.StateProbabilities,\n",
    "        $\"StatePrediction_{i}-{end}\",\n",
    "        \"20250408_SortedUnits_43765200\"\n",
    "    );\n",
    "\n",
    "}"
   ]
  },
  {
   "cell_type": "markdown",
   "metadata": {},
   "source": [
    "# Encode and Decode"
   ]
  }
 ],
 "metadata": {
  "kernelspec": {
   "display_name": ".NET (C#)",
   "language": "C#",
   "name": ".net-csharp"
  },
  "language_info": {
   "name": "python"
  },
  "polyglot_notebook": {
   "kernelInfo": {
    "defaultKernelName": "csharp",
    "items": [
     {
      "aliases": [],
      "name": "csharp"
     }
    ]
   }
  }
 },
 "nbformat": 4,
 "nbformat_minor": 2
}
